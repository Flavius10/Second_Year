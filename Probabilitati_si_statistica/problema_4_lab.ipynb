{
 "cells": [
  {
   "cell_type": "code",
   "id": "initial_id",
   "metadata": {
    "collapsed": true,
    "ExecuteTime": {
     "end_time": "2025-10-01T13:27:38.087729Z",
     "start_time": "2025-10-01T13:27:38.082098Z"
    }
   },
   "source": "from itertools import combinations_with_replacement",
   "outputs": [],
   "execution_count": 1
  },
  {
   "metadata": {
    "ExecuteTime": {
     "end_time": "2025-10-01T13:30:46.244941Z",
     "start_time": "2025-10-01T13:30:46.237944Z"
    }
   },
   "cell_type": "code",
   "source": [
    "combinations = combinations_with_replacement(\"ABCDE\", 4)\n",
    "for elem in combinations:\n",
    "    print(elem)"
   ],
   "id": "2e3e94f9f61a22e1",
   "outputs": [
    {
     "name": "stdout",
     "output_type": "stream",
     "text": [
      "('A', 'A', 'A', 'A')\n",
      "('A', 'A', 'A', 'B')\n",
      "('A', 'A', 'A', 'C')\n",
      "('A', 'A', 'A', 'D')\n",
      "('A', 'A', 'A', 'E')\n",
      "('A', 'A', 'B', 'B')\n",
      "('A', 'A', 'B', 'C')\n",
      "('A', 'A', 'B', 'D')\n",
      "('A', 'A', 'B', 'E')\n",
      "('A', 'A', 'C', 'C')\n",
      "('A', 'A', 'C', 'D')\n",
      "('A', 'A', 'C', 'E')\n",
      "('A', 'A', 'D', 'D')\n",
      "('A', 'A', 'D', 'E')\n",
      "('A', 'A', 'E', 'E')\n",
      "('A', 'B', 'B', 'B')\n",
      "('A', 'B', 'B', 'C')\n",
      "('A', 'B', 'B', 'D')\n",
      "('A', 'B', 'B', 'E')\n",
      "('A', 'B', 'C', 'C')\n",
      "('A', 'B', 'C', 'D')\n",
      "('A', 'B', 'C', 'E')\n",
      "('A', 'B', 'D', 'D')\n",
      "('A', 'B', 'D', 'E')\n",
      "('A', 'B', 'E', 'E')\n",
      "('A', 'C', 'C', 'C')\n",
      "('A', 'C', 'C', 'D')\n",
      "('A', 'C', 'C', 'E')\n",
      "('A', 'C', 'D', 'D')\n",
      "('A', 'C', 'D', 'E')\n",
      "('A', 'C', 'E', 'E')\n",
      "('A', 'D', 'D', 'D')\n",
      "('A', 'D', 'D', 'E')\n",
      "('A', 'D', 'E', 'E')\n",
      "('A', 'E', 'E', 'E')\n",
      "('B', 'B', 'B', 'B')\n",
      "('B', 'B', 'B', 'C')\n",
      "('B', 'B', 'B', 'D')\n",
      "('B', 'B', 'B', 'E')\n",
      "('B', 'B', 'C', 'C')\n",
      "('B', 'B', 'C', 'D')\n",
      "('B', 'B', 'C', 'E')\n",
      "('B', 'B', 'D', 'D')\n",
      "('B', 'B', 'D', 'E')\n",
      "('B', 'B', 'E', 'E')\n",
      "('B', 'C', 'C', 'C')\n",
      "('B', 'C', 'C', 'D')\n",
      "('B', 'C', 'C', 'E')\n",
      "('B', 'C', 'D', 'D')\n",
      "('B', 'C', 'D', 'E')\n",
      "('B', 'C', 'E', 'E')\n",
      "('B', 'D', 'D', 'D')\n",
      "('B', 'D', 'D', 'E')\n",
      "('B', 'D', 'E', 'E')\n",
      "('B', 'E', 'E', 'E')\n",
      "('C', 'C', 'C', 'C')\n",
      "('C', 'C', 'C', 'D')\n",
      "('C', 'C', 'C', 'E')\n",
      "('C', 'C', 'D', 'D')\n",
      "('C', 'C', 'D', 'E')\n",
      "('C', 'C', 'E', 'E')\n",
      "('C', 'D', 'D', 'D')\n",
      "('C', 'D', 'D', 'E')\n",
      "('C', 'D', 'E', 'E')\n",
      "('C', 'E', 'E', 'E')\n",
      "('D', 'D', 'D', 'D')\n",
      "('D', 'D', 'D', 'E')\n",
      "('D', 'D', 'E', 'E')\n",
      "('D', 'E', 'E', 'E')\n",
      "('E', 'E', 'E', 'E')\n"
     ]
    }
   ],
   "execution_count": 3
  }
 ],
 "metadata": {
  "kernelspec": {
   "display_name": "Python 3",
   "language": "python",
   "name": "python3"
  },
  "language_info": {
   "codemirror_mode": {
    "name": "ipython",
    "version": 2
   },
   "file_extension": ".py",
   "mimetype": "text/x-python",
   "name": "python",
   "nbconvert_exporter": "python",
   "pygments_lexer": "ipython2",
   "version": "2.7.6"
  }
 },
 "nbformat": 4,
 "nbformat_minor": 5
}
