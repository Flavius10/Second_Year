{
 "cells": [
  {
   "cell_type": "code",
   "id": "initial_id",
   "metadata": {
    "collapsed": true,
    "ExecuteTime": {
     "end_time": "2025-10-01T12:38:19.084697Z",
     "start_time": "2025-10-01T12:38:19.078382Z"
    }
   },
   "source": [
    "from random import sample\n",
    "from math import perm, comb\n",
    "from itertools import permutations, combinations"
   ],
   "outputs": [],
   "execution_count": 1
  },
  {
   "metadata": {
    "ExecuteTime": {
     "end_time": "2025-10-01T12:53:06.050145Z",
     "start_time": "2025-10-01T12:53:06.032280Z"
    }
   },
   "cell_type": "code",
   "source": [
    "def aranjamente(lista, k):\n",
    "    lista = permutations(lista, k)\n",
    "    for elem in lista:\n",
    "        print(elem)\n",
    "\n",
    "aranjamente('word', 2)"
   ],
   "id": "1e14e2bc5476992a",
   "outputs": [
    {
     "name": "stdout",
     "output_type": "stream",
     "text": [
      "('w', 'o')\n",
      "('w', 'r')\n",
      "('w', 'd')\n",
      "('o', 'w')\n",
      "('o', 'r')\n",
      "('o', 'd')\n",
      "('r', 'w')\n",
      "('r', 'o')\n",
      "('r', 'd')\n",
      "('d', 'w')\n",
      "('d', 'o')\n",
      "('d', 'r')\n"
     ]
    }
   ],
   "execution_count": 17
  },
  {
   "metadata": {
    "ExecuteTime": {
     "end_time": "2025-10-01T12:46:41.439794Z",
     "start_time": "2025-10-01T12:46:41.428565Z"
    }
   },
   "cell_type": "code",
   "source": [
    "lungime = len(list(permutations('word', 2)))\n",
    "print(lungime)"
   ],
   "id": "1282721927553270",
   "outputs": [
    {
     "name": "stdout",
     "output_type": "stream",
     "text": [
      "12\n"
     ]
    }
   ],
   "execution_count": 8
  },
  {
   "metadata": {
    "ExecuteTime": {
     "end_time": "2025-10-01T13:00:04.800341Z",
     "start_time": "2025-10-01T13:00:04.788277Z"
    }
   },
   "cell_type": "code",
   "source": [
    "def aranjamente(lista, k, aleator = False):\n",
    "    if aleator:\n",
    "        lista = sample(lista, k)\n",
    "    return lista\n",
    "\n",
    "sample_aranjamente = aranjamente(\"word\", 2, True)\n",
    "\n",
    "print(sample_aranjamente)"
   ],
   "id": "e4c4d80e9976da18",
   "outputs": [
    {
     "name": "stdout",
     "output_type": "stream",
     "text": [
      "['o', 'd']\n"
     ]
    }
   ],
   "execution_count": 26
  },
  {
   "metadata": {
    "ExecuteTime": {
     "end_time": "2025-10-01T13:04:41.010589Z",
     "start_time": "2025-10-01T13:04:41.000701Z"
    }
   },
   "cell_type": "code",
   "source": [
    "def combinari(lista, k):\n",
    "    lista = combinations(lista, k)\n",
    "    for elem in lista:\n",
    "        print(elem)\n",
    "\n",
    "combinari(\"word\", 2)"
   ],
   "id": "b1e02e26500847ff",
   "outputs": [
    {
     "name": "stdout",
     "output_type": "stream",
     "text": [
      "('w', 'o')\n",
      "('w', 'r')\n",
      "('w', 'd')\n",
      "('o', 'r')\n",
      "('o', 'd')\n",
      "('r', 'd')\n"
     ]
    }
   ],
   "execution_count": 28
  },
  {
   "metadata": {
    "ExecuteTime": {
     "end_time": "2025-10-01T13:11:05.917282Z",
     "start_time": "2025-10-01T13:11:05.908468Z"
    }
   },
   "cell_type": "code",
   "source": "print(len(list(combinations('word', 2))))",
   "id": "300a85baac8f3afb",
   "outputs": [
    {
     "name": "stdout",
     "output_type": "stream",
     "text": [
      "6\n"
     ]
    }
   ],
   "execution_count": 30
  },
  {
   "metadata": {
    "ExecuteTime": {
     "end_time": "2025-10-01T13:25:09.356313Z",
     "start_time": "2025-10-01T13:25:09.345467Z"
    }
   },
   "cell_type": "code",
   "source": [
    "def combinari(lista, k):\n",
    "    lista1 = sample(range(len(lista)), k)\n",
    "    lista_sortata = sorted(lista1)\n",
    "    lista_combinari = [lista[lista_sortata[x]] for x in range(len(lista_sortata))]\n",
    "    return lista_combinari\n",
    "\n",
    "print(combinari(\"word\", 2))"
   ],
   "id": "2df98c1747c4ff25",
   "outputs": [
    {
     "name": "stdout",
     "output_type": "stream",
     "text": [
      "['w', 'o', 'r']\n"
     ]
    }
   ],
   "execution_count": 97
  }
 ],
 "metadata": {
  "kernelspec": {
   "display_name": "Python 3",
   "language": "python",
   "name": "python3"
  },
  "language_info": {
   "codemirror_mode": {
    "name": "ipython",
    "version": 2
   },
   "file_extension": ".py",
   "mimetype": "text/x-python",
   "name": "python",
   "nbconvert_exporter": "python",
   "pygments_lexer": "ipython2",
   "version": "2.7.6"
  }
 },
 "nbformat": 4,
 "nbformat_minor": 5
}
