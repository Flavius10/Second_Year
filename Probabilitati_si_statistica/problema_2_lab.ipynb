{
 "cells": [
  {
   "cell_type": "code",
   "id": "initial_id",
   "metadata": {
    "collapsed": true,
    "ExecuteTime": {
     "end_time": "2025-10-01T12:28:08.331424Z",
     "start_time": "2025-10-01T12:28:08.325986Z"
    }
   },
   "source": [
    "from random import sample\n",
    "from math import factorial\n",
    "from itertools import permutations"
   ],
   "outputs": [],
   "execution_count": 1
  },
  {
   "metadata": {
    "ExecuteTime": {
     "end_time": "2025-10-01T12:29:05.076148Z",
     "start_time": "2025-10-01T12:29:05.064577Z"
    }
   },
   "cell_type": "code",
   "source": "list(permutations('word'))",
   "id": "d30714875a75999b",
   "outputs": [
    {
     "data": {
      "text/plain": [
       "[('w', 'o', 'r', 'd'),\n",
       " ('w', 'o', 'd', 'r'),\n",
       " ('w', 'r', 'o', 'd'),\n",
       " ('w', 'r', 'd', 'o'),\n",
       " ('w', 'd', 'o', 'r'),\n",
       " ('w', 'd', 'r', 'o'),\n",
       " ('o', 'w', 'r', 'd'),\n",
       " ('o', 'w', 'd', 'r'),\n",
       " ('o', 'r', 'w', 'd'),\n",
       " ('o', 'r', 'd', 'w'),\n",
       " ('o', 'd', 'w', 'r'),\n",
       " ('o', 'd', 'r', 'w'),\n",
       " ('r', 'w', 'o', 'd'),\n",
       " ('r', 'w', 'd', 'o'),\n",
       " ('r', 'o', 'w', 'd'),\n",
       " ('r', 'o', 'd', 'w'),\n",
       " ('r', 'd', 'w', 'o'),\n",
       " ('r', 'd', 'o', 'w'),\n",
       " ('d', 'w', 'o', 'r'),\n",
       " ('d', 'w', 'r', 'o'),\n",
       " ('d', 'o', 'w', 'r'),\n",
       " ('d', 'o', 'r', 'w'),\n",
       " ('d', 'r', 'w', 'o'),\n",
       " ('d', 'r', 'o', 'w')]"
      ]
     },
     "execution_count": 2,
     "metadata": {},
     "output_type": "execute_result"
    }
   ],
   "execution_count": 2
  },
  {
   "metadata": {
    "ExecuteTime": {
     "end_time": "2025-10-01T12:37:20.277030Z",
     "start_time": "2025-10-01T12:37:20.264461Z"
    }
   },
   "cell_type": "code",
   "source": [
    "lista_permutari = list(permutations('word'))\n",
    "print(len(lista_permutari))\n",
    "print(factorial(4))"
   ],
   "id": "234aa3d78ba2c6f",
   "outputs": [
    {
     "name": "stdout",
     "output_type": "stream",
     "text": [
      "24\n",
      "24\n"
     ]
    }
   ],
   "execution_count": 12
  },
  {
   "metadata": {
    "ExecuteTime": {
     "end_time": "2025-10-01T12:32:46.094879Z",
     "start_time": "2025-10-01T12:32:46.085853Z"
    }
   },
   "cell_type": "code",
   "source": "help('random.sample')",
   "id": "36df2d3a13f66e55",
   "outputs": [
    {
     "name": "stdout",
     "output_type": "stream",
     "text": [
      "Help on method sample in random:\n",
      "\n",
      "random.sample = sample(population, k, *, counts=None) method of random.Random instance\n",
      "    Chooses k unique random elements from a population sequence.\n",
      "\n",
      "    Returns a new list containing elements from the population while\n",
      "    leaving the original population unchanged.  The resulting list is\n",
      "    in selection order so that all sub-slices will also be valid random\n",
      "    samples.  This allows raffle winners (the sample) to be partitioned\n",
      "    into grand prize and second place winners (the subslices).\n",
      "\n",
      "    Members of the population need not be hashable or unique.  If the\n",
      "    population contains repeats, then each occurrence is a possible\n",
      "    selection in the sample.\n",
      "\n",
      "    Repeated elements can be specified one at a time or with the optional\n",
      "    counts parameter.  For example:\n",
      "\n",
      "        sample(['red', 'blue'], counts=[4, 2], k=5)\n",
      "\n",
      "    is equivalent to:\n",
      "\n",
      "        sample(['red', 'red', 'red', 'red', 'blue', 'blue'], k=5)\n",
      "\n",
      "    To choose a sample from a range of integers, use range() for the\n",
      "    population argument.  This is especially fast and space efficient\n",
      "    for sampling from a large population:\n",
      "\n",
      "        sample(range(10000000), 60)\n",
      "\n"
     ]
    }
   ],
   "execution_count": 7
  },
  {
   "metadata": {
    "ExecuteTime": {
     "end_time": "2025-10-01T12:37:24.344077Z",
     "start_time": "2025-10-01T12:37:24.334242Z"
    }
   },
   "cell_type": "code",
   "source": [
    "lista_permutari = list(permutations('word'))\n",
    "sample(lista_permutari, 1)"
   ],
   "id": "b67cbb47aa1d2aec",
   "outputs": [
    {
     "data": {
      "text/plain": [
       "[('d', 'o', 'w', 'r')]"
      ]
     },
     "execution_count": 14,
     "metadata": {},
     "output_type": "execute_result"
    }
   ],
   "execution_count": 14
  }
 ],
 "metadata": {
  "kernelspec": {
   "display_name": "Python 3",
   "language": "python",
   "name": "python3"
  },
  "language_info": {
   "codemirror_mode": {
    "name": "ipython",
    "version": 2
   },
   "file_extension": ".py",
   "mimetype": "text/x-python",
   "name": "python",
   "nbconvert_exporter": "python",
   "pygments_lexer": "ipython2",
   "version": "2.7.6"
  }
 },
 "nbformat": 4,
 "nbformat_minor": 5
}
